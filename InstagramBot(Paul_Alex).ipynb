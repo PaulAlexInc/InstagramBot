{
  "nbformat": 4,
  "nbformat_minor": 0,
  "metadata": {
    "kernelspec": {
      "display_name": "Python 3",
      "language": "python",
      "name": "python3"
    },
    "language_info": {
      "codemirror_mode": {
        "name": "ipython",
        "version": 3
      },
      "file_extension": ".py",
      "mimetype": "text/x-python",
      "name": "python",
      "nbconvert_exporter": "python",
      "pygments_lexer": "ipython3",
      "version": "3.7.4"
    },
    "colab": {
      "name": "InstagramBot(Paul Alex).ipynb",
      "provenance": [],
      "collapsed_sections": [],
      "include_colab_link": true
    }
  },
  "cells": [
    {
      "cell_type": "markdown",
      "metadata": {
        "id": "view-in-github",
        "colab_type": "text"
      },
      "source": [
        "<a href=\"https://colab.research.google.com/github/PaulAlexInc/InstagramBot/blob/main/InstagramBot(Paul_Alex).ipynb\" target=\"_parent\"><img src=\"https://colab.research.google.com/assets/colab-badge.svg\" alt=\"Open In Colab\"/></a>"
      ]
    },
    {
      "cell_type": "markdown",
      "metadata": {
        "id": "7NjUI_OvQZi2"
      },
      "source": [
        "# Design an Instagram Bot which will like all the posts in your wall. Basically you need to write an automation script which will like all the posts of Instagram in a given page."
      ]
    },
    {
      "cell_type": "markdown",
      "metadata": {
        "id": "MciT-5VgQZi8"
      },
      "source": [
        "### Paul Alex"
      ]
    },
    {
      "cell_type": "markdown",
      "metadata": {
        "id": "CpMxUxfvQZi9"
      },
      "source": [
        "Note: no of posts to like and the tag name from where to like the posts needs to be given as user input after logging in. "
      ]
    },
    {
      "cell_type": "code",
      "metadata": {
        "id": "7YHvazJuQZi9",
        "outputId": "505c4a00-abb3-46a9-e0e4-12d8de23384c"
      },
      "source": [
        "#logging into instagram\n",
        "\n",
        "from selenium import webdriver\n",
        "import time\n",
        "driver = webdriver.Chrome(\"chromedriver.exe\")\n",
        "url = \"https://www.instagram.com/?hl=en\"\n",
        "driver.get(url)\n",
        "time.sleep(5)\n",
        "\n",
        "email = \"\"#insert email id within quotes\n",
        "pwd = \"\"#insert password within quotes\n",
        "\n",
        "email_box = driver.find_element_by_name(\"username\")\n",
        "email_box.send_keys(email)\n",
        "time.sleep(2)\n",
        "\n",
        "pwd_box = driver.find_element_by_name(\"password\")\n",
        "pwd_box.send_keys(pwd)\n",
        "time.sleep(3)\n",
        "\n",
        "#login button\n",
        "login = driver.find_elements_by_tag_name('button')\n",
        "login[1].click()\n",
        "time.sleep(3)\n",
        "\n",
        "#save login info prompt\n",
        "logininfosave = driver.find_elements_by_tag_name('button')\n",
        "logininfosave[1].click()\n",
        "time.sleep(3)\n",
        "\n",
        "#notification prompt\n",
        "notifications = driver.find_element_by_xpath(\"//button[contains(text(), 'Not Now')]\")\n",
        "notifications.click()\n",
        "time.sleep(3)\n",
        "\n",
        "#user input\n",
        "\n",
        "amt=int(input(\"No of posts you want to like :\"))\n",
        "\n",
        "hashtag = input(\"Enter the name of the hashtag from which you want to like posts eg: travel : \")\n",
        "\n",
        "\n",
        "driver.get('https://www.instagram.com/explore/tags/'+hashtag)#navigating to the tag given by user\n",
        "posts = driver.find_element_by_class_name('_9AhH0').click()\n",
        "\n",
        "i=1\n",
        "while i <= amt:\n",
        "    time.sleep(2)\n",
        "    like = driver.find_elements_by_class_name('wpO6b')\n",
        "    like[1].click()\n",
        "    nextpost =driver.find_element_by_xpath(\"//a[contains(text(), 'Next')]\").click()\n",
        "    i=i+1\n",
        "    \n",
        "driver.get('https://www.instagram.com/instaprime987/')"
      ],
      "execution_count": null,
      "outputs": [
        {
          "output_type": "stream",
          "text": [
            "No of posts you want to like :5\n",
            "Enter the name of the hashtag from which you want to like posts eg: travel : travel\n"
          ],
          "name": "stdout"
        }
      ]
    },
    {
      "cell_type": "markdown",
      "metadata": {
        "id": "SvPJyJ52QZi-"
      },
      "source": [
        ""
      ]
    },
    {
      "cell_type": "code",
      "metadata": {
        "id": "b-sRanrKQZi_"
      },
      "source": [
        ""
      ],
      "execution_count": null,
      "outputs": []
    }
  ]
}